{
 "cells": [
  {
   "cell_type": "markdown",
   "metadata": {},
   "source": [
    "# Chinese Restaurant Recommendation in New York"
   ]
  },
  {
   "cell_type": "markdown",
   "metadata": {},
   "source": [
    "There are large number of people especially for travelers are desire to find the most appropriate restaurants in big city. However, the miscellaneous info on the web contain different noise and interfere the people's choice. These kind of info not only based on the gourmet's review and the numbers of order, but also contain the malicious comments from other competitors. Consequently, in this project, we will identify the several different Chinese restaurants in New York based on location "
   ]
  },
  {
   "cell_type": "code",
   "execution_count": 2,
   "metadata": {},
   "outputs": [],
   "source": [
    "#First, set up the environment, necessary libraries and dependencies\n",
    "import pandas as pd\n",
    "import numpy as np\n",
    "import requests\n",
    "\n",
    "import matplotlib.cm as cm\n",
    "import matplotlib.colors as colors\n",
    "import matplotlib.pyplot as plt\n",
    "%matplotlib inline \n",
    "\n",
    "import seaborn as sns\n",
    "import io\n",
    "from io import BytesIO\n",
    "\n",
    "!conda update -n base -c defaults conda\n",
    "\n",
    "#library to deal with JSON files\n",
    "import json \n",
    "\n",
    "#tranform JSON file into a pandas dataframe\n",
    "from pandas.io.json import json_normalize \n",
    "\n",
    "#convert an address into latitude and longitude values\n",
    "!conda install -c conda-forge geopy --yes \n",
    "from geopy.geocoders import Nominatim \n",
    "\n",
    "#map rendering library\n",
    "!conda install -c conda-forge folium=0.5.0 --yes \n",
    "import folium "
   ]
  },
  {
   "cell_type": "code",
   "execution_count": 3,
   "metadata": {},
   "outputs": [],
   "source": [
    "#Acquring geo address and location\n",
    "def geo_location(address):\n",
    "    geolocator = Nominatim(user_agent=\"foursquare_agent\")\n",
    "    location = geolocator.geocode(address)\n",
    "    latitude = location.latitude\n",
    "    longitude = location.longitude\n",
    "    return latitude,longitude\n",
    "\n",
    "def get_venues(lat,lng):\n",
    "    \n",
    "    #the variables should be as the following:\n",
    "    radius=600\n",
    "    LIMIT=150\n",
    "    \n",
    "    #url to fetch data from foursquare api\n",
    "    url = 'https://api.foursquare.com/v2/venues/explore?&client_id={}&client_secret={}&v={}&ll={},{}&radius={}&limit={}'.format(\n",
    "            CLIENT_ID, \n",
    "            CLIENT_SECRET, \n",
    "            VERSION, \n",
    "            lat, \n",
    "            lng, \n",
    "            radius, \n",
    "            LIMIT)\n",
    "    \n",
    "    #get all the data\n",
    "    results = requests.get(url).json()\n",
    "    venue_data=results['response']['groups'][0]['items']\n",
    "    venue_details=[]\n",
    "    for row in venue_data:\n",
    "        try:\n",
    "            venue_id=row['venue']['id']\n",
    "            venue_name=row['venue']['name']\n",
    "            venue_category=row['venue']['categories'][0]['name']\n",
    "            venue_details.append([venue_id,venue_name,venue_category])\n",
    "        except KeyError:\n",
    "            pass\n",
    "    column_names=['ID','Name','Category']\n",
    "    df = pd.DataFrame(venue_details,columns=column_names)\n",
    "    return df\n",
    "\n",
    "def get_venue_details(venue_id):\n",
    "    #url to fetch data from foursquare api\n",
    "    url = 'https://api.foursquare.com/v2/venues/{}?&client_id={}&client_secret={}&v={}'.format(\n",
    "            venue_id,\n",
    "            CLIENT_ID, \n",
    "            CLIENT_SECRET, \n",
    "            VERSION)\n",
    "    \n",
    "    #acquring the entire data\n",
    "    results = requests.get(url).json() \n",
    "    print(results)\n",
    "    venue_data=results['response']['venue']\n",
    "    venue_details=[]\n",
    "    try:\n",
    "        venue_id=venue_data['id']\n",
    "        venue_name=venue_data['name']\n",
    "        venue_likes=venue_data['likes']['count']\n",
    "        venue_rating=venue_data['rating']\n",
    "        venue_details.append([venue_id,venue_name,venue_likes,venue_rating])\n",
    "    except KeyError:\n",
    "        pass\n",
    "    column_names=['ID','Name','Likes','Rating']\n",
    "    df = pd.DataFrame(venue_details,columns=column_names)\n",
    "    return df\n",
    "\n",
    "def get_nyc_data():\n",
    "    url='https://cocl.us/new_york_dataset'\n",
    "    resp=requests.get(url).json() # all data is in features label\n",
    "    \n",
    "    features=resp['features'] # define the dataframe columns\n",
    "    \n",
    "    column_names = ['Borough', 'Neighborhood', 'Latitude', 'Longitude']  # instantiate the dataframe\n",
    "    \n",
    "    nyc_data = pd.DataFrame(columns=column_names)\n",
    "    for data in features:\n",
    "        borough = data['properties']['borough'] \n",
    "        neighborhood_name = data['properties']['name']\n",
    "        neighborhood_latlon = data['geometry']['coordinates']\n",
    "        neighborhood_lat = neighborhood_latlon[1]\n",
    "        neighborhood_lon = neighborhood_latlon[0]\n",
    "        nyc_data = nyc_data.append({'Borough': borough,\n",
    "                                          'Neighborhood': neighborhood_name,\n",
    "                                          'Latitude': neighborhood_lat,\n",
    "                                          'Longitude': neighborhood_lon}, ignore_index=True)\n",
    "    return nyc_data"
   ]
  },
  {
   "cell_type": "markdown",
   "metadata": {},
   "source": [
    "Get NYC geographic data."
   ]
  },
  {
   "cell_type": "code",
   "execution_count": 4,
   "metadata": {},
   "outputs": [
    {
     "data": {
      "text/html": [
       "<div>\n",
       "<style scoped>\n",
       "    .dataframe tbody tr th:only-of-type {\n",
       "        vertical-align: middle;\n",
       "    }\n",
       "\n",
       "    .dataframe tbody tr th {\n",
       "        vertical-align: top;\n",
       "    }\n",
       "\n",
       "    .dataframe thead th {\n",
       "        text-align: right;\n",
       "    }\n",
       "</style>\n",
       "<table border=\"1\" class=\"dataframe\">\n",
       "  <thead>\n",
       "    <tr style=\"text-align: right;\">\n",
       "      <th></th>\n",
       "      <th>Borough</th>\n",
       "      <th>Neighborhood</th>\n",
       "      <th>Latitude</th>\n",
       "      <th>Longitude</th>\n",
       "    </tr>\n",
       "  </thead>\n",
       "  <tbody>\n",
       "    <tr>\n",
       "      <th>0</th>\n",
       "      <td>Bronx</td>\n",
       "      <td>Wakefield</td>\n",
       "      <td>40.894705</td>\n",
       "      <td>-73.847201</td>\n",
       "    </tr>\n",
       "    <tr>\n",
       "      <th>1</th>\n",
       "      <td>Bronx</td>\n",
       "      <td>Co-op City</td>\n",
       "      <td>40.874294</td>\n",
       "      <td>-73.829939</td>\n",
       "    </tr>\n",
       "    <tr>\n",
       "      <th>2</th>\n",
       "      <td>Bronx</td>\n",
       "      <td>Eastchester</td>\n",
       "      <td>40.887556</td>\n",
       "      <td>-73.827806</td>\n",
       "    </tr>\n",
       "    <tr>\n",
       "      <th>3</th>\n",
       "      <td>Bronx</td>\n",
       "      <td>Fieldston</td>\n",
       "      <td>40.895437</td>\n",
       "      <td>-73.905643</td>\n",
       "    </tr>\n",
       "    <tr>\n",
       "      <th>4</th>\n",
       "      <td>Bronx</td>\n",
       "      <td>Riverdale</td>\n",
       "      <td>40.890834</td>\n",
       "      <td>-73.912585</td>\n",
       "    </tr>\n",
       "  </tbody>\n",
       "</table>\n",
       "</div>"
      ],
      "text/plain": [
       "  Borough Neighborhood   Latitude  Longitude\n",
       "0   Bronx    Wakefield  40.894705 -73.847201\n",
       "1   Bronx   Co-op City  40.874294 -73.829939\n",
       "2   Bronx  Eastchester  40.887556 -73.827806\n",
       "3   Bronx    Fieldston  40.895437 -73.905643\n",
       "4   Bronx    Riverdale  40.890834 -73.912585"
      ]
     },
     "execution_count": 4,
     "metadata": {},
     "output_type": "execute_result"
    }
   ],
   "source": [
    "nyc_data = get_nyc_data()\n",
    "nyc_data.head()"
   ]
  },
  {
   "cell_type": "code",
   "execution_count": 47,
   "metadata": {},
   "outputs": [
    {
     "data": {
      "text/plain": [
       "(306, 4)"
      ]
     },
     "execution_count": 47,
     "metadata": {},
     "output_type": "execute_result"
    }
   ],
   "source": [
    "nyc_data.shape"
   ]
  },
  {
   "cell_type": "markdown",
   "metadata": {},
   "source": [
    "Review our initial data by creating a bar plot to look at the distribution of neigborhoods per borough.\n",
    "We can see that Queens has the greatest number of neighborhoods and Manhattan has the least."
   ]
  },
  {
   "cell_type": "code",
   "execution_count": 5,
   "metadata": {},
   "outputs": [
    {
     "data": {
      "image/png": "[encoded data removed]",
      "text/plain": [
       "<Figure size 720x360 with 1 Axes>"
      ]
     },
     "metadata": {
      "needs_background": "light"
     },
     "output_type": "display_data"
    }
   ],
   "source": [
    "gry = 0.2, 0.4, 0.6, 0.6\n",
    "nyc_data.groupby('Borough')['Neighborhood'].count().plot.bar(figsize=(10,5), color=gry)\n",
    "plt.title('Neighborhoods per Borough: NYC', fontsize = 20)\n",
    "plt.xlabel('Borough', fontsize = 13)\n",
    "plt.ylabel('No. Neighborhoods',fontsize = 13)\n",
    "plt.xticks(rotation = 'horizontal')\n",
    "plt.show()"
   ]
  },
  {
   "cell_type": "markdown",
   "metadata": {},
   "source": [
    "Now we will look at how many Chinese restaurants there are in each of the boroughs and neighborhoods."
   ]
  },
  {
   "cell_type": "code",
   "execution_count": 114,
   "metadata": {},
   "outputs": [],
   "source": [
    "#Create a data frame that contains number of chinese restaurants per neighborhood using foursquare api call function get_venues.\n",
    "\n",
    "column_names=['Borough', 'Neighborhood', 'ID','Name']\n",
    "chi_res_nyc=pd.DataFrame(columns=column_names)\n",
    "count=1\n",
    "for row in nyc_data.values.tolist():\n",
    "    Borough, Neighborhood, Latitude, Longitude=row\n",
    "    venues = get_venues(Latitude,Longitude)\n",
    "    chi_res=venues[venues['Category']=='Chinese Restaurant']   \n",
    "    #print('(',count,'/',len(nyc_data),')','Chinese Restaurants in '+Neighborhood+', '+Borough+':'+str(len(chi_res)))\n",
    "    #print(row)\n",
    "    for rest_detail in chi_res.values.tolist():\n",
    "        id, name , category=rest_detail\n",
    "        chi_res_nyc = chi_res_nyc.append({'Borough': Borough,\n",
    "                                                'Neighborhood': Neighborhood, \n",
    "                                                'ID': id,\n",
    "                                                'Name' : name\n",
    "                                               }, ignore_index=True)\n",
    "    count+=1\n",
    "  "
   ]
  },
  {
   "cell_type": "code",
   "execution_count": 16,
   "metadata": {},
   "outputs": [
    {
     "data": {
      "text/plain": [
       "(269, 4)"
      ]
     },
     "execution_count": 16,
     "metadata": {},
     "output_type": "execute_result"
    }
   ],
   "source": [
    "chi_res_nyc.shape"
   ]
  },
  {
   "cell_type": "code",
   "execution_count": 20,
   "metadata": {},
   "outputs": [
    {
     "data": {
      "text/plain": [
       "{'file_name': 'chinese restaurants nyc.csv',\n",
       " 'message': 'File saved to project storage.',\n",
       " 'bucket_name': 'adscapstoneprojectasianbistroanal-donotdelete-pr-clrcdigez8xpsd',\n",
       " 'asset_id': '04e0fac3-b7d9-47d0-91fd-8e9ebe4be434'}"
      ]
     },
     "execution_count": 20,
     "metadata": {},
     "output_type": "execute_result"
    }
   ],
   "source": [
    "#save data to limit Foursquare calls\n",
    "project.save_data(\"chinese restaurants nyc.csv\", chi_res_nyc.to_csv(), overwrite=True)\n"
   ]
  },
  {
   "cell_type": "code",
   "execution_count": 6,
   "metadata": {},
   "outputs": [],
   "source": [
    "chi_res_nyc = r'chinese restaurants nyc.csv'\n",
    "chi_res_nyc = pd.read_csv(chi_res_nyc)\n",
    "chi_res_nyc.head()\n",
    "chi_res_nyc.drop(['Unnamed: 0'], axis=1, inplace = True)"
   ]
  },
  {
   "cell_type": "code",
   "execution_count": 31,
   "metadata": {},
   "outputs": [
    {
     "data": {
      "text/html": [
       "<div>\n",
       "<style scoped>\n",
       "    .dataframe tbody tr th:only-of-type {\n",
       "        vertical-align: middle;\n",
       "    }\n",
       "\n",
       "    .dataframe tbody tr th {\n",
       "        vertical-align: top;\n",
       "    }\n",
       "\n",
       "    .dataframe thead th {\n",
       "        text-align: right;\n",
       "    }\n",
       "</style>\n",
       "<table border=\"1\" class=\"dataframe\">\n",
       "  <thead>\n",
       "    <tr style=\"text-align: right;\">\n",
       "      <th></th>\n",
       "      <th>Borough</th>\n",
       "      <th>Neighborhood</th>\n",
       "      <th>ID</th>\n",
       "      <th>Name</th>\n",
       "    </tr>\n",
       "  </thead>\n",
       "  <tbody>\n",
       "    <tr>\n",
       "      <th>264</th>\n",
       "      <td>Brooklyn</td>\n",
       "      <td>Homecrest</td>\n",
       "      <td>4d28b924ebacb1f72efbf34f</td>\n",
       "      <td>Wing Hing Seafood Restaurant</td>\n",
       "    </tr>\n",
       "    <tr>\n",
       "      <th>265</th>\n",
       "      <td>Brooklyn</td>\n",
       "      <td>Madison</td>\n",
       "      <td>4be32bd7b02ec9b61fc34ec0</td>\n",
       "      <td>win hing</td>\n",
       "    </tr>\n",
       "    <tr>\n",
       "      <th>266</th>\n",
       "      <td>Bronx</td>\n",
       "      <td>Bronxdale</td>\n",
       "      <td>4c3f7f2eda3dc928b8f6c5b9</td>\n",
       "      <td>Peking Kitchen</td>\n",
       "    </tr>\n",
       "    <tr>\n",
       "      <th>267</th>\n",
       "      <td>Bronx</td>\n",
       "      <td>Allerton</td>\n",
       "      <td>4bc11181abf495219f7dc093</td>\n",
       "      <td>Li's Kitchen</td>\n",
       "    </tr>\n",
       "    <tr>\n",
       "      <th>268</th>\n",
       "      <td>Queens</td>\n",
       "      <td>Hammels</td>\n",
       "      <td>4c72ad2bad69b60cb31b84b9</td>\n",
       "      <td>301 Chinese Resturant</td>\n",
       "    </tr>\n",
       "  </tbody>\n",
       "</table>\n",
       "</div>"
      ],
      "text/plain": [
       "      Borough Neighborhood                        ID  \\\n",
       "264  Brooklyn    Homecrest  4d28b924ebacb1f72efbf34f   \n",
       "265  Brooklyn      Madison  4be32bd7b02ec9b61fc34ec0   \n",
       "266     Bronx    Bronxdale  4c3f7f2eda3dc928b8f6c5b9   \n",
       "267     Bronx     Allerton  4bc11181abf495219f7dc093   \n",
       "268    Queens      Hammels  4c72ad2bad69b60cb31b84b9   \n",
       "\n",
       "                             Name  \n",
       "264  Wing Hing Seafood Restaurant  \n",
       "265                      win hing  \n",
       "266                Peking Kitchen  \n",
       "267                  Li's Kitchen  \n",
       "268         301 Chinese Resturant  "
      ]
     },
     "execution_count": 31,
     "metadata": {},
     "output_type": "execute_result"
    }
   ],
   "source": [
    "chi_res_nyc.tail()"
   ]
  },
  {
   "cell_type": "raw",
   "metadata": {},
   "source": [
    "We can see here that Queens has the most Chinese restaurants compared to the other 4 boroughs with Staten Island\n",
    "having the least number of Chinese restaurants per borough."
   ]
  },
  {
   "cell_type": "code",
   "execution_count": 7,
   "metadata": {},
   "outputs": [
    {
     "data": {
      "image/png": "[encoded data removed]",
      "text/plain": [
       "<Figure size 720x360 with 1 Axes>"
      ]
     },
     "metadata": {
      "needs_background": "light"
     },
     "output_type": "display_data"
    }
   ],
   "source": [
    "chi_res_nyc.groupby('Borough')['ID'].count().plot.bar(figsize=(10,5), color = gry )\n",
    "plt.title('Chinese Restaurants per Borough: NYC', fontsize = 20)\n",
    "plt.xlabel('Borough', fontsize = 13)\n",
    "plt.ylabel('Number of Chinese Restaurants', fontsize=13)\n",
    "plt.xticks(rotation = 'horizontal')\n",
    "plt.show()"
   ]
  },
  {
   "cell_type": "code",
   "execution_count": 25,
   "metadata": {},
   "outputs": [
    {
     "data": {
      "text/html": [
       "<div>\n",
       "<style scoped>\n",
       "    .dataframe tbody tr th:only-of-type {\n",
       "        vertical-align: middle;\n",
       "    }\n",
       "\n",
       "    .dataframe tbody tr th {\n",
       "        vertical-align: top;\n",
       "    }\n",
       "\n",
       "    .dataframe thead th {\n",
       "        text-align: right;\n",
       "    }\n",
       "</style>\n",
       "<table border=\"1\" class=\"dataframe\">\n",
       "  <thead>\n",
       "    <tr style=\"text-align: right;\">\n",
       "      <th></th>\n",
       "      <th>ID</th>\n",
       "      <th>Name</th>\n",
       "    </tr>\n",
       "    <tr>\n",
       "      <th>Borough</th>\n",
       "      <th></th>\n",
       "      <th></th>\n",
       "    </tr>\n",
       "  </thead>\n",
       "  <tbody>\n",
       "    <tr>\n",
       "      <th>Bronx</th>\n",
       "      <td>46</td>\n",
       "      <td>46</td>\n",
       "    </tr>\n",
       "    <tr>\n",
       "      <th>Brooklyn</th>\n",
       "      <td>56</td>\n",
       "      <td>56</td>\n",
       "    </tr>\n",
       "    <tr>\n",
       "      <th>Manhattan</th>\n",
       "      <td>60</td>\n",
       "      <td>60</td>\n",
       "    </tr>\n",
       "    <tr>\n",
       "      <th>Queens</th>\n",
       "      <td>83</td>\n",
       "      <td>83</td>\n",
       "    </tr>\n",
       "    <tr>\n",
       "      <th>Staten Island</th>\n",
       "      <td>24</td>\n",
       "      <td>24</td>\n",
       "    </tr>\n",
       "  </tbody>\n",
       "</table>\n",
       "</div>"
      ],
      "text/plain": [
       "               ID  Name\n",
       "Borough                \n",
       "Bronx          46    46\n",
       "Brooklyn       56    56\n",
       "Manhattan      60    60\n",
       "Queens         83    83\n",
       "Staten Island  24    24"
      ]
     },
     "execution_count": 25,
     "metadata": {},
     "output_type": "execute_result"
    }
   ],
   "source": [
    "chi_res_nyc.set_index(['Borough', 'Neighborhood']).count(level='Borough')"
   ]
  },
  {
   "cell_type": "code",
   "execution_count": 64,
   "metadata": {},
   "outputs": [
    {
     "data": {
      "image/png": "[encoded data removed]",
      "text/plain": [
       "<Figure size 720x360 with 1 Axes>"
      ]
     },
     "metadata": {
      "needs_background": "light"
     },
     "output_type": "display_data"
    }
   ],
   "source": [
    "#Top 5 Neighborhoods with largest number of Chinese restaurants.\n",
    "NofNeigh = 5\n",
    "chi_res_nyc.groupby('Neighborhood')['ID'].count().nlargest(NofNeigh).plot.bar(figsize=(10,5), color=gry)\n",
    "plt.title('Chinese Restaurants per Neighborhood: NYC', fontsize = 20)\n",
    "plt.xlabel('Neighborhood', fontsize = 13)\n",
    "plt.ylabel('Chinese Restaurants', fontsize=13)\n",
    "plt.xticks(rotation = 'horizontal')\n",
    "plt.show()"
   ]
  },
  {
   "cell_type": "markdown",
   "metadata": {},
   "source": [
    "Queens has the greatest number of Chinese restaurants per borough in NYC however, Chinatown in Manhattan has \n",
    "the highest number of Chinese restaurants per neighborhood."
   ]
  },
  {
   "cell_type": "code",
   "execution_count": 45,
   "metadata": {},
   "outputs": [
    {
     "data": {
      "text/html": [
       "<div>\n",
       "<style scoped>\n",
       "    .dataframe tbody tr th:only-of-type {\n",
       "        vertical-align: middle;\n",
       "    }\n",
       "\n",
       "    .dataframe tbody tr th {\n",
       "        vertical-align: top;\n",
       "    }\n",
       "\n",
       "    .dataframe thead th {\n",
       "        text-align: right;\n",
       "    }\n",
       "</style>\n",
       "<table border=\"1\" class=\"dataframe\">\n",
       "  <thead>\n",
       "    <tr style=\"text-align: right;\">\n",
       "      <th></th>\n",
       "      <th>Borough</th>\n",
       "      <th>Neighborhood</th>\n",
       "      <th>ID</th>\n",
       "      <th>Name</th>\n",
       "    </tr>\n",
       "  </thead>\n",
       "  <tbody>\n",
       "    <tr>\n",
       "      <th>81</th>\n",
       "      <td>Manhattan</td>\n",
       "      <td>Chinatown</td>\n",
       "      <td>4db3374590a0843f295fb69b</td>\n",
       "      <td>Spicy Village</td>\n",
       "    </tr>\n",
       "    <tr>\n",
       "      <th>82</th>\n",
       "      <td>Manhattan</td>\n",
       "      <td>Chinatown</td>\n",
       "      <td>5894c9a15e56b417cf79e553</td>\n",
       "      <td>Xi'an Famous Foods</td>\n",
       "    </tr>\n",
       "    <tr>\n",
       "      <th>83</th>\n",
       "      <td>Manhattan</td>\n",
       "      <td>Chinatown</td>\n",
       "      <td>4a96bf8ff964a520ce2620e3</td>\n",
       "      <td>Wah Fung Number 1 Fast Food 華豐快飯店</td>\n",
       "    </tr>\n",
       "    <tr>\n",
       "      <th>84</th>\n",
       "      <td>Manhattan</td>\n",
       "      <td>Chinatown</td>\n",
       "      <td>3fd66200f964a520b1ea1ee3</td>\n",
       "      <td>Great N.Y. Noodletown</td>\n",
       "    </tr>\n",
       "    <tr>\n",
       "      <th>85</th>\n",
       "      <td>Manhattan</td>\n",
       "      <td>Chinatown</td>\n",
       "      <td>3fd66200f964a52067e61ee3</td>\n",
       "      <td>Joe's Shanghai 鹿嗚春</td>\n",
       "    </tr>\n",
       "    <tr>\n",
       "      <th>86</th>\n",
       "      <td>Manhattan</td>\n",
       "      <td>Chinatown</td>\n",
       "      <td>46936ee3f964a520d0481fe3</td>\n",
       "      <td>Shanghai Café Deluxe</td>\n",
       "    </tr>\n",
       "    <tr>\n",
       "      <th>87</th>\n",
       "      <td>Manhattan</td>\n",
       "      <td>Chinatown</td>\n",
       "      <td>5c965dad5455b2002c058659</td>\n",
       "      <td>Yi Ji Shi Mo Noodle Corp</td>\n",
       "    </tr>\n",
       "    <tr>\n",
       "      <th>88</th>\n",
       "      <td>Manhattan</td>\n",
       "      <td>Chinatown</td>\n",
       "      <td>3fd66200f964a520ede41ee3</td>\n",
       "      <td>Big Wong King 大旺</td>\n",
       "    </tr>\n",
       "    <tr>\n",
       "      <th>89</th>\n",
       "      <td>Manhattan</td>\n",
       "      <td>Chinatown</td>\n",
       "      <td>59ad625a2619ee5cdded881f</td>\n",
       "      <td>House Special 甘來飯店</td>\n",
       "    </tr>\n",
       "    <tr>\n",
       "      <th>90</th>\n",
       "      <td>Manhattan</td>\n",
       "      <td>Chinatown</td>\n",
       "      <td>3fd66200f964a520ceea1ee3</td>\n",
       "      <td>Deluxe Green Bo Restaurant</td>\n",
       "    </tr>\n",
       "  </tbody>\n",
       "</table>\n",
       "</div>"
      ],
      "text/plain": [
       "      Borough Neighborhood                        ID  \\\n",
       "81  Manhattan    Chinatown  4db3374590a0843f295fb69b   \n",
       "82  Manhattan    Chinatown  5894c9a15e56b417cf79e553   \n",
       "83  Manhattan    Chinatown  4a96bf8ff964a520ce2620e3   \n",
       "84  Manhattan    Chinatown  3fd66200f964a520b1ea1ee3   \n",
       "85  Manhattan    Chinatown  3fd66200f964a52067e61ee3   \n",
       "86  Manhattan    Chinatown  46936ee3f964a520d0481fe3   \n",
       "87  Manhattan    Chinatown  5c965dad5455b2002c058659   \n",
       "88  Manhattan    Chinatown  3fd66200f964a520ede41ee3   \n",
       "89  Manhattan    Chinatown  59ad625a2619ee5cdded881f   \n",
       "90  Manhattan    Chinatown  3fd66200f964a520ceea1ee3   \n",
       "\n",
       "                                 Name  \n",
       "81                      Spicy Village  \n",
       "82                 Xi'an Famous Foods  \n",
       "83  Wah Fung Number 1 Fast Food 華豐快飯店  \n",
       "84              Great N.Y. Noodletown  \n",
       "85                 Joe's Shanghai 鹿嗚春  \n",
       "86               Shanghai Café Deluxe  \n",
       "87           Yi Ji Shi Mo Noodle Corp  \n",
       "88                   Big Wong King 大旺  \n",
       "89                 House Special 甘來飯店  \n",
       "90         Deluxe Green Bo Restaurant  "
      ]
     },
     "execution_count": 45,
     "metadata": {},
     "output_type": "execute_result"
    }
   ],
   "source": [
    "chi_res_nyc[chi_res_nyc['Neighborhood']=='Chinatown']"
   ]
  },
  {
   "cell_type": "code",
   "execution_count": null,
   "metadata": {},
   "outputs": [],
   "source": [
    "#make a call to Foursquare API to get Likes and Rating \n",
    "\n",
    "column_names=['Borough', 'Neighborhood', 'ID','Name','Likes','Rating']\n",
    "chi_rest_stats_nyc=pd.DataFrame(columns=column_names)\n",
    "count=1\n",
    "for row in chi_res_nyc.values.tolist():\n",
    "    Borough,Neighborhood,ID,Name=row\n",
    "    try:\n",
    "        venue_details=get_venue_details(ID)\n",
    "        #print(venue_details)\n",
    "        id,name,likes,rating=venue_details.values.tolist()[0]\n",
    "    except IndexError:\n",
    "        #print('No data available for id=',ID) #assign 0 value for the restaurants as they may have been\n",
    "                                            #recently opened or details do not exist in the FourSquare Database\n",
    "        id,name,likes,rating=[0]*4                                                                                   \n",
    "    #print('(',count,'/',len(chi_res_nyc),')','processed')\n",
    "    chi_rest_stats_nyc = chi_rest_stats_nyc.append({'Borough': Borough,\n",
    "                                                'Neighborhood': Neighborhood, \n",
    "                                                'ID': id,\n",
    "                                                'Name' : name,\n",
    "                                                'Likes' : likes,\n",
    "                                                'Rating' : rating,\n",
    "                                                },ignore_index=True)\n",
    "                                                                                             \n",
    "                                        \n",
    "                                               \n",
    "    count+=1\n"
   ]
  },
  {
   "cell_type": "code",
   "execution_count": 33,
   "metadata": {},
   "outputs": [
    {
     "data": {
      "text/plain": [
       "(269, 6)"
      ]
     },
     "execution_count": 33,
     "metadata": {},
     "output_type": "execute_result"
    }
   ],
   "source": [
    "chi_rest_stats_nyc.shape"
   ]
  },
  {
   "cell_type": "code",
   "execution_count": 34,
   "metadata": {},
   "outputs": [
    {
     "data": {
      "text/plain": [
       "{'file_name': 'chinese restaurants stats nyc.csv',\n",
       " 'message': 'File saved to project storage.',\n",
       " 'bucket_name': 'adscapstoneprojectasianbistroanal-donotdelete-pr-clrcdigez8xpsd',\n",
       " 'asset_id': 'c6c329f9-c830-4f6a-8bd0-0cb1809997c2'}"
      ]
     },
     "execution_count": 34,
     "metadata": {},
     "output_type": "execute_result"
    }
   ],
   "source": [
    "#save data to limit Foursquare calls\n",
    "project.save_data(\"chinese restaurants stats nyc.csv\", chi_rest_stats_nyc.to_csv(), overwrite=True)"
   ]
  },
  {
   "cell_type": "code",
   "execution_count": 17,
   "metadata": {},
   "outputs": [
    {
     "data": {
      "text/html": [
       "<div>\n",
       "<style scoped>\n",
       "    .dataframe tbody tr th:only-of-type {\n",
       "        vertical-align: middle;\n",
       "    }\n",
       "\n",
       "    .dataframe tbody tr th {\n",
       "        vertical-align: top;\n",
       "    }\n",
       "\n",
       "    .dataframe thead th {\n",
       "        text-align: right;\n",
       "    }\n",
       "</style>\n",
       "<table border=\"1\" class=\"dataframe\">\n",
       "  <thead>\n",
       "    <tr style=\"text-align: right;\">\n",
       "      <th></th>\n",
       "      <th>Borough</th>\n",
       "      <th>Neighborhood</th>\n",
       "      <th>ID</th>\n",
       "      <th>Name</th>\n",
       "      <th>Likes</th>\n",
       "      <th>Rating</th>\n",
       "    </tr>\n",
       "  </thead>\n",
       "  <tbody>\n",
       "    <tr>\n",
       "      <th>0</th>\n",
       "      <td>Bronx</td>\n",
       "      <td>Eastchester</td>\n",
       "      <td>0</td>\n",
       "      <td>0</td>\n",
       "      <td>0</td>\n",
       "      <td>0.0</td>\n",
       "    </tr>\n",
       "    <tr>\n",
       "      <th>1</th>\n",
       "      <td>Bronx</td>\n",
       "      <td>Kingsbridge</td>\n",
       "      <td>0</td>\n",
       "      <td>0</td>\n",
       "      <td>0</td>\n",
       "      <td>0.0</td>\n",
       "    </tr>\n",
       "    <tr>\n",
       "      <th>2</th>\n",
       "      <td>Bronx</td>\n",
       "      <td>Woodlawn</td>\n",
       "      <td>0</td>\n",
       "      <td>0</td>\n",
       "      <td>0</td>\n",
       "      <td>0.0</td>\n",
       "    </tr>\n",
       "    <tr>\n",
       "      <th>3</th>\n",
       "      <td>Bronx</td>\n",
       "      <td>Norwood</td>\n",
       "      <td>0</td>\n",
       "      <td>0</td>\n",
       "      <td>0</td>\n",
       "      <td>0.0</td>\n",
       "    </tr>\n",
       "    <tr>\n",
       "      <th>4</th>\n",
       "      <td>Bronx</td>\n",
       "      <td>Pelham Parkway</td>\n",
       "      <td>4b9d6b45f964a52078ab36e3</td>\n",
       "      <td>Mr. Q's Chinese Restaurant</td>\n",
       "      <td>9</td>\n",
       "      <td>7.4</td>\n",
       "    </tr>\n",
       "  </tbody>\n",
       "</table>\n",
       "</div>"
      ],
      "text/plain": [
       "  Borough    Neighborhood                        ID  \\\n",
       "0   Bronx     Eastchester                         0   \n",
       "1   Bronx     Kingsbridge                         0   \n",
       "2   Bronx        Woodlawn                         0   \n",
       "3   Bronx         Norwood                         0   \n",
       "4   Bronx  Pelham Parkway  4b9d6b45f964a52078ab36e3   \n",
       "\n",
       "                         Name  Likes  Rating  \n",
       "0                           0      0     0.0  \n",
       "1                           0      0     0.0  \n",
       "2                           0      0     0.0  \n",
       "3                           0      0     0.0  \n",
       "4  Mr. Q's Chinese Restaurant      9     7.4  "
      ]
     },
     "execution_count": 17,
     "metadata": {},
     "output_type": "execute_result"
    }
   ],
   "source": [
    "chi_rest_stats_nyc = r'chinese restaurants stats nyc.csv'\n",
    "\n",
    "chi_rest_stats_nyc = pd.read_csv(chi_rest_stats_nyc)\n",
    "chi_rest_stats_nyc.drop(['Unnamed: 0'], axis=1, inplace = True)\n",
    "chi_rest_stats_nyc.head()"
   ]
  },
  {
   "cell_type": "code",
   "execution_count": 30,
   "metadata": {},
   "outputs": [
    {
     "data": {
      "text/html": [
       "<div>\n",
       "<style scoped>\n",
       "    .dataframe tbody tr th:only-of-type {\n",
       "        vertical-align: middle;\n",
       "    }\n",
       "\n",
       "    .dataframe tbody tr th {\n",
       "        vertical-align: top;\n",
       "    }\n",
       "\n",
       "    .dataframe thead th {\n",
       "        text-align: right;\n",
       "    }\n",
       "</style>\n",
       "<table border=\"1\" class=\"dataframe\">\n",
       "  <thead>\n",
       "    <tr style=\"text-align: right;\">\n",
       "      <th></th>\n",
       "      <th>Borough</th>\n",
       "      <th>Neighborhood</th>\n",
       "      <th>ID</th>\n",
       "      <th>Name</th>\n",
       "      <th>Likes</th>\n",
       "      <th>Rating</th>\n",
       "    </tr>\n",
       "  </thead>\n",
       "  <tbody>\n",
       "    <tr>\n",
       "      <th>263</th>\n",
       "      <td>Brooklyn</td>\n",
       "      <td>Homecrest</td>\n",
       "      <td>4b46743ff964a520892126e3</td>\n",
       "      <td>Golden \"Z\" Restaurant</td>\n",
       "      <td>9</td>\n",
       "      <td>7.6</td>\n",
       "    </tr>\n",
       "    <tr>\n",
       "      <th>264</th>\n",
       "      <td>Brooklyn</td>\n",
       "      <td>Homecrest</td>\n",
       "      <td>4d28b924ebacb1f72efbf34f</td>\n",
       "      <td>Wing Hing Seafood Restaurant</td>\n",
       "      <td>25</td>\n",
       "      <td>6.7</td>\n",
       "    </tr>\n",
       "    <tr>\n",
       "      <th>266</th>\n",
       "      <td>Bronx</td>\n",
       "      <td>Bronxdale</td>\n",
       "      <td>4c3f7f2eda3dc928b8f6c5b9</td>\n",
       "      <td>Peking Kitchen</td>\n",
       "      <td>9</td>\n",
       "      <td>7.4</td>\n",
       "    </tr>\n",
       "    <tr>\n",
       "      <th>267</th>\n",
       "      <td>Bronx</td>\n",
       "      <td>Allerton</td>\n",
       "      <td>4bc11181abf495219f7dc093</td>\n",
       "      <td>Li's Kitchen</td>\n",
       "      <td>2</td>\n",
       "      <td>7.1</td>\n",
       "    </tr>\n",
       "    <tr>\n",
       "      <th>268</th>\n",
       "      <td>Queens</td>\n",
       "      <td>Hammels</td>\n",
       "      <td>4c72ad2bad69b60cb31b84b9</td>\n",
       "      <td>301 Chinese Resturant</td>\n",
       "      <td>9</td>\n",
       "      <td>6.3</td>\n",
       "    </tr>\n",
       "  </tbody>\n",
       "</table>\n",
       "</div>"
      ],
      "text/plain": [
       "      Borough Neighborhood                        ID  \\\n",
       "263  Brooklyn    Homecrest  4b46743ff964a520892126e3   \n",
       "264  Brooklyn    Homecrest  4d28b924ebacb1f72efbf34f   \n",
       "266     Bronx    Bronxdale  4c3f7f2eda3dc928b8f6c5b9   \n",
       "267     Bronx     Allerton  4bc11181abf495219f7dc093   \n",
       "268    Queens      Hammels  4c72ad2bad69b60cb31b84b9   \n",
       "\n",
       "                             Name  Likes  Rating  \n",
       "263         Golden \"Z\" Restaurant      9     7.6  \n",
       "264  Wing Hing Seafood Restaurant     25     6.7  \n",
       "266                Peking Kitchen      9     7.4  \n",
       "267                  Li's Kitchen      2     7.1  \n",
       "268         301 Chinese Resturant      9     6.3  "
      ]
     },
     "execution_count": 30,
     "metadata": {},
     "output_type": "execute_result"
    }
   ],
   "source": [
    "#drop rows with zero ratings\n",
    "indexratingzero=chi_rest_stats_nyc[chi_rest_stats_nyc['Rating']==0].index\n",
    "chi_rest_stats_nyc.drop(indexratingzero, inplace=True)\n",
    "chi_rest_stats_nyc.tail()"
   ]
  },
  {
   "cell_type": "code",
   "execution_count": 31,
   "metadata": {},
   "outputs": [
    {
     "name": "stdout",
     "output_type": "stream",
     "text": [
      "<class 'pandas.core.frame.DataFrame'>\n",
      "Int64Index: 162 entries, 4 to 268\n",
      "Data columns (total 6 columns):\n",
      "Borough         162 non-null object\n",
      "Neighborhood    162 non-null object\n",
      "ID              162 non-null object\n",
      "Name            162 non-null object\n",
      "Likes           162 non-null int64\n",
      "Rating          162 non-null float64\n",
      "dtypes: float64(1), int64(1), object(4)\n",
      "memory usage: 8.9+ KB\n"
     ]
    }
   ],
   "source": [
    "chi_rest_stats_nyc.info()"
   ]
  },
  {
   "cell_type": "code",
   "execution_count": 6,
   "metadata": {},
   "outputs": [
    {
     "data": {
      "text/html": [
       "<div>\n",
       "<style scoped>\n",
       "    .dataframe tbody tr th:only-of-type {\n",
       "        vertical-align: middle;\n",
       "    }\n",
       "\n",
       "    .dataframe tbody tr th {\n",
       "        vertical-align: top;\n",
       "    }\n",
       "\n",
       "    .dataframe thead th {\n",
       "        text-align: right;\n",
       "    }\n",
       "</style>\n",
       "<table border=\"1\" class=\"dataframe\">\n",
       "  <thead>\n",
       "    <tr style=\"text-align: right;\">\n",
       "      <th></th>\n",
       "      <th>Likes</th>\n",
       "      <th>Rating</th>\n",
       "    </tr>\n",
       "  </thead>\n",
       "  <tbody>\n",
       "    <tr>\n",
       "      <th>count</th>\n",
       "      <td>162.000000</td>\n",
       "      <td>162.000000</td>\n",
       "    </tr>\n",
       "    <tr>\n",
       "      <th>mean</th>\n",
       "      <td>111.648148</td>\n",
       "      <td>7.512346</td>\n",
       "    </tr>\n",
       "    <tr>\n",
       "      <th>std</th>\n",
       "      <td>241.576820</td>\n",
       "      <td>0.943284</td>\n",
       "    </tr>\n",
       "    <tr>\n",
       "      <th>min</th>\n",
       "      <td>0.000000</td>\n",
       "      <td>5.400000</td>\n",
       "    </tr>\n",
       "    <tr>\n",
       "      <th>25%</th>\n",
       "      <td>6.000000</td>\n",
       "      <td>6.800000</td>\n",
       "    </tr>\n",
       "    <tr>\n",
       "      <th>50%</th>\n",
       "      <td>16.000000</td>\n",
       "      <td>7.600000</td>\n",
       "    </tr>\n",
       "    <tr>\n",
       "      <th>75%</th>\n",
       "      <td>70.000000</td>\n",
       "      <td>8.200000</td>\n",
       "    </tr>\n",
       "    <tr>\n",
       "      <th>max</th>\n",
       "      <td>1473.000000</td>\n",
       "      <td>9.200000</td>\n",
       "    </tr>\n",
       "  </tbody>\n",
       "</table>\n",
       "</div>"
      ],
      "text/plain": [
       "             Likes      Rating\n",
       "count   162.000000  162.000000\n",
       "mean    111.648148    7.512346\n",
       "std     241.576820    0.943284\n",
       "min       0.000000    5.400000\n",
       "25%       6.000000    6.800000\n",
       "50%      16.000000    7.600000\n",
       "75%      70.000000    8.200000\n",
       "max    1473.000000    9.200000"
      ]
     },
     "execution_count": 6,
     "metadata": {},
     "output_type": "execute_result"
    }
   ],
   "source": [
    "#look at the statistics of the table for likes, ratings\n",
    "chi_rest_stats_nyc.describe()"
   ]
  },
  {
   "cell_type": "code",
   "execution_count": 52,
   "metadata": {},
   "outputs": [
    {
     "data": {
      "text/plain": [
       "Borough                        Manhattan\n",
       "Neighborhood                     Chelsea\n",
       "ID              44e9b421f964a520a5371fe3\n",
       "Name                            Buddakan\n",
       "Likes                               1473\n",
       "Rating                               9.2\n",
       "Name: 117, dtype: object"
      ]
     },
     "execution_count": 52,
     "metadata": {},
     "output_type": "execute_result"
    }
   ],
   "source": [
    "#check restaurant with max likes and rating\n",
    "chi_rest_stats_nyc.loc[chi_rest_stats_nyc['Rating'].idxmax()]"
   ]
  },
  {
   "cell_type": "code",
   "execution_count": 32,
   "metadata": {},
   "outputs": [
    {
     "data": {
      "text/html": [
       "<div>\n",
       "<style scoped>\n",
       "    .dataframe tbody tr th:only-of-type {\n",
       "        vertical-align: middle;\n",
       "    }\n",
       "\n",
       "    .dataframe tbody tr th {\n",
       "        vertical-align: top;\n",
       "    }\n",
       "\n",
       "    .dataframe thead th {\n",
       "        text-align: right;\n",
       "    }\n",
       "</style>\n",
       "<table border=\"1\" class=\"dataframe\">\n",
       "  <thead>\n",
       "    <tr style=\"text-align: right;\">\n",
       "      <th></th>\n",
       "      <th>Neighborhood</th>\n",
       "      <th>Average Rating</th>\n",
       "    </tr>\n",
       "  </thead>\n",
       "  <tbody>\n",
       "    <tr>\n",
       "      <th>33</th>\n",
       "      <td>Flatiron</td>\n",
       "      <td>9.20</td>\n",
       "    </tr>\n",
       "    <tr>\n",
       "      <th>15</th>\n",
       "      <td>Chelsea</td>\n",
       "      <td>9.20</td>\n",
       "    </tr>\n",
       "    <tr>\n",
       "      <th>88</th>\n",
       "      <td>West Village</td>\n",
       "      <td>8.95</td>\n",
       "    </tr>\n",
       "    <tr>\n",
       "      <th>60</th>\n",
       "      <td>Midtown South</td>\n",
       "      <td>8.90</td>\n",
       "    </tr>\n",
       "    <tr>\n",
       "      <th>42</th>\n",
       "      <td>Greenwich Village</td>\n",
       "      <td>8.90</td>\n",
       "    </tr>\n",
       "  </tbody>\n",
       "</table>\n",
       "</div>"
      ],
      "text/plain": [
       "         Neighborhood  Average Rating\n",
       "33           Flatiron            9.20\n",
       "15            Chelsea            9.20\n",
       "88       West Village            8.95\n",
       "60      Midtown South            8.90\n",
       "42  Greenwich Village            8.90"
      ]
     },
     "execution_count": 32,
     "metadata": {},
     "output_type": "execute_result"
    }
   ],
   "source": [
    "#create dataframe with average ratings per Neighborhood\n",
    "\n",
    "\n",
    "neighborhood_stats = chi_rest_stats_nyc.groupby('Neighborhood', as_index=False).mean()[['Neighborhood','Rating']]\n",
    "neighborhood_stats.columns=['Neighborhood','Average Rating']\n",
    "neighborhood_stats.sort_values(['Average Rating'], ascending=False).head()\n"
   ]
  },
  {
   "cell_type": "code",
   "execution_count": 33,
   "metadata": {},
   "outputs": [
    {
     "data": {
      "text/html": [
       "<div>\n",
       "<style scoped>\n",
       "    .dataframe tbody tr th:only-of-type {\n",
       "        vertical-align: middle;\n",
       "    }\n",
       "\n",
       "    .dataframe tbody tr th {\n",
       "        vertical-align: top;\n",
       "    }\n",
       "\n",
       "    .dataframe thead th {\n",
       "        text-align: right;\n",
       "    }\n",
       "</style>\n",
       "<table border=\"1\" class=\"dataframe\">\n",
       "  <thead>\n",
       "    <tr style=\"text-align: right;\">\n",
       "      <th></th>\n",
       "      <th>Borough</th>\n",
       "      <th>Average Rating</th>\n",
       "    </tr>\n",
       "  </thead>\n",
       "  <tbody>\n",
       "    <tr>\n",
       "      <th>2</th>\n",
       "      <td>Manhattan</td>\n",
       "      <td>8.062069</td>\n",
       "    </tr>\n",
       "    <tr>\n",
       "      <th>1</th>\n",
       "      <td>Brooklyn</td>\n",
       "      <td>7.436364</td>\n",
       "    </tr>\n",
       "    <tr>\n",
       "      <th>3</th>\n",
       "      <td>Queens</td>\n",
       "      <td>7.184615</td>\n",
       "    </tr>\n",
       "    <tr>\n",
       "      <th>4</th>\n",
       "      <td>Staten Island</td>\n",
       "      <td>6.922222</td>\n",
       "    </tr>\n",
       "    <tr>\n",
       "      <th>0</th>\n",
       "      <td>Bronx</td>\n",
       "      <td>6.810000</td>\n",
       "    </tr>\n",
       "  </tbody>\n",
       "</table>\n",
       "</div>"
      ],
      "text/plain": [
       "         Borough  Average Rating\n",
       "2      Manhattan        8.062069\n",
       "1       Brooklyn        7.436364\n",
       "3         Queens        7.184615\n",
       "4  Staten Island        6.922222\n",
       "0          Bronx        6.810000"
      ]
     },
     "execution_count": 33,
     "metadata": {},
     "output_type": "execute_result"
    }
   ],
   "source": [
    "#create dataframe with average ratings per borough\n",
    "borough_stats=chi_rest_stats_nyc.groupby('Borough', as_index=False).mean()[['Borough','Rating']]\n",
    "borough_stats.columns=['Borough', 'Average Rating']\n",
    "borough_stats.sort_values(['Average Rating'], ascending=False).head()"
   ]
  },
  {
   "cell_type": "code",
   "execution_count": 34,
   "metadata": {},
   "outputs": [
    {
     "data": {
      "image/png": "[encoded data removed]",
      "text/plain": [
       "<Figure size 720x360 with 1 Axes>"
      ]
     },
     "metadata": {
      "needs_background": "light"
     },
     "output_type": "display_data"
    }
   ],
   "source": [
    "#plot the average rating per borough\n",
    "borough_stats.groupby('Borough').mean()['Average Rating'].plot.bar(figsize=(10,5), color=gry)\n",
    "plt.title('Average rating of Chinese Restaurants for each Borough', fontsize=20)\n",
    "plt.xlabel('Borough',fontsize=13)\n",
    "plt.ylabel('Average Rating', fontsize=13)\n",
    "plt.xticks(rotation='horizontal')\n",
    "plt.show()"
   ]
  },
  {
   "cell_type": "markdown",
   "metadata": {},
   "source": [
    "We will map the neighborhoods with an average rating greater than or equal to 6 after joining the appropriate dataframes with geolocation data."
   ]
  },
  {
   "cell_type": "code",
   "execution_count": 35,
   "metadata": {},
   "outputs": [
    {
     "data": {
      "text/plain": [
       "(88, 2)"
      ]
     },
     "execution_count": 35,
     "metadata": {},
     "output_type": "execute_result"
    }
   ],
   "source": [
    "#create dataframe with average rating greater than 6\n",
    "neighborhood_stats_rating = neighborhood_stats[neighborhood_stats['Average Rating']>=6.0]\n",
    "neighborhood_stats_rating.shape"
   ]
  },
  {
   "cell_type": "code",
   "execution_count": 36,
   "metadata": {},
   "outputs": [
    {
     "data": {
      "text/html": [
       "<div>\n",
       "<style scoped>\n",
       "    .dataframe tbody tr th:only-of-type {\n",
       "        vertical-align: middle;\n",
       "    }\n",
       "\n",
       "    .dataframe tbody tr th {\n",
       "        vertical-align: top;\n",
       "    }\n",
       "\n",
       "    .dataframe thead th {\n",
       "        text-align: right;\n",
       "    }\n",
       "</style>\n",
       "<table border=\"1\" class=\"dataframe\">\n",
       "  <thead>\n",
       "    <tr style=\"text-align: right;\">\n",
       "      <th></th>\n",
       "      <th>Borough</th>\n",
       "      <th>Neighborhood</th>\n",
       "      <th>Latitude</th>\n",
       "      <th>Longitude</th>\n",
       "      <th>Average Rating</th>\n",
       "    </tr>\n",
       "  </thead>\n",
       "  <tbody>\n",
       "    <tr>\n",
       "      <th>86</th>\n",
       "      <td>Staten Island</td>\n",
       "      <td>Westerleigh</td>\n",
       "      <td>40.621090</td>\n",
       "      <td>-74.133041</td>\n",
       "      <td>7.25</td>\n",
       "    </tr>\n",
       "    <tr>\n",
       "      <th>87</th>\n",
       "      <td>Brooklyn</td>\n",
       "      <td>Williamsburg</td>\n",
       "      <td>40.707144</td>\n",
       "      <td>-73.958115</td>\n",
       "      <td>8.20</td>\n",
       "    </tr>\n",
       "    <tr>\n",
       "      <th>88</th>\n",
       "      <td>Brooklyn</td>\n",
       "      <td>Windsor Terrace</td>\n",
       "      <td>40.656946</td>\n",
       "      <td>-73.980073</td>\n",
       "      <td>8.90</td>\n",
       "    </tr>\n",
       "    <tr>\n",
       "      <th>89</th>\n",
       "      <td>Queens</td>\n",
       "      <td>Woodside</td>\n",
       "      <td>40.746349</td>\n",
       "      <td>-73.901842</td>\n",
       "      <td>8.30</td>\n",
       "    </tr>\n",
       "    <tr>\n",
       "      <th>90</th>\n",
       "      <td>Manhattan</td>\n",
       "      <td>Yorkville</td>\n",
       "      <td>40.775930</td>\n",
       "      <td>-73.947118</td>\n",
       "      <td>7.70</td>\n",
       "    </tr>\n",
       "  </tbody>\n",
       "</table>\n",
       "</div>"
      ],
      "text/plain": [
       "          Borough     Neighborhood   Latitude  Longitude  Average Rating\n",
       "86  Staten Island      Westerleigh  40.621090 -74.133041            7.25\n",
       "87       Brooklyn     Williamsburg  40.707144 -73.958115            8.20\n",
       "88       Brooklyn  Windsor Terrace  40.656946 -73.980073            8.90\n",
       "89         Queens         Woodside  40.746349 -73.901842            8.30\n",
       "90      Manhattan        Yorkville  40.775930 -73.947118            7.70"
      ]
     },
     "execution_count": 36,
     "metadata": {},
     "output_type": "execute_result"
    }
   ],
   "source": [
    "#merge ratings df with lat and long\n",
    "neighborhood_stats_rating = pd.merge(neighborhood_stats_rating, nyc_data, on='Neighborhood')\n",
    "neighborhood_stats_rating=neighborhood_stats_rating[['Borough', 'Neighborhood','Latitude','Longitude','Average Rating']]\n",
    "neighborhood_stats_rating.tail()\n"
   ]
  },
  {
   "cell_type": "code",
   "execution_count": 46,
   "metadata": {
    "scrolled": true
   },
   "outputs": [
    {
     "data": {
      "text/html": [
       "<div style=\"width:100%;\"><div style=\"position:relative;width:100%;height:0;padding-bottom:60%;\"><iframe src=\"data:text/html;charset=utf-8;base64,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\" style=\"position:absolute;width:100%;height:100%;left:0;top:0;border:none !important;\" allowfullscreen webkitallowfullscreen mozallowfullscreen></iframe></div></div>"
      ],
      "text/plain": [
       "<folium.folium.Map at 0x7f9861b26cc0>"
      ]
     },
     "execution_count": 46,
     "metadata": {},
     "output_type": "execute_result"
    }
   ],
   "source": [
    "#geo_location is malfunction below NYC coordinates from Google\n",
    "latitude= 40.687936\n",
    "longitude= -73.976358\n",
    "\n",
    "#create map with neighborhoods and rating\n",
    "from folium import plugins\n",
    "\n",
    "#start with clean copy of NYC map\n",
    "nyc_map = folium.Map(location=[latitude, longitude], zoom_start=11)\n",
    "\n",
    "#instantiate a marker cluster object for the ratings in the dataframe\n",
    "chi_rating = plugins.MarkerCluster().add_to(nyc_map)\n",
    "\n",
    "neighborhood_stats_rating['Label']= neighborhood_stats_rating['Neighborhood']+'('+neighborhood_stats_rating['Average Rating'].map(str)+')'\n",
    "#loop through the dataframe and add each data point to the mark cluster\n",
    "for lat, lng, label, in neighborhood_stats_rating[['Latitude','Longitude','Label']].values:\n",
    "    folium.Marker(\n",
    "        location=[lat,lng],\n",
    "        icon=None,\n",
    "        popup=label).add_to(chi_rating)\n",
    "    \n",
    "  \n",
    "#display map\n",
    "nyc_map\n",
    "                                           \n",
    "                                           \n"
   ]
  },
  {
   "cell_type": "code",
   "execution_count": 19,
   "metadata": {},
   "outputs": [
    {
     "data": {
      "text/html": [
       "<div>\n",
       "<style scoped>\n",
       "    .dataframe tbody tr th:only-of-type {\n",
       "        vertical-align: middle;\n",
       "    }\n",
       "\n",
       "    .dataframe tbody tr th {\n",
       "        vertical-align: top;\n",
       "    }\n",
       "\n",
       "    .dataframe thead th {\n",
       "        text-align: right;\n",
       "    }\n",
       "</style>\n",
       "<table border=\"1\" class=\"dataframe\">\n",
       "  <thead>\n",
       "    <tr style=\"text-align: right;\">\n",
       "      <th></th>\n",
       "      <th>Borough</th>\n",
       "      <th>Neighborhood</th>\n",
       "      <th>Latitude</th>\n",
       "      <th>Longitude</th>\n",
       "      <th>Average Rating</th>\n",
       "      <th>Label</th>\n",
       "    </tr>\n",
       "  </thead>\n",
       "  <tbody>\n",
       "    <tr>\n",
       "      <th>0</th>\n",
       "      <td>Bronx</td>\n",
       "      <td>Allerton</td>\n",
       "      <td>40.865788</td>\n",
       "      <td>-73.859319</td>\n",
       "      <td>7.10</td>\n",
       "      <td>Allerton(7.1)</td>\n",
       "    </tr>\n",
       "    <tr>\n",
       "      <th>1</th>\n",
       "      <td>Queens</td>\n",
       "      <td>Astoria</td>\n",
       "      <td>40.768509</td>\n",
       "      <td>-73.915654</td>\n",
       "      <td>7.70</td>\n",
       "      <td>Astoria(7.7)</td>\n",
       "    </tr>\n",
       "    <tr>\n",
       "      <th>2</th>\n",
       "      <td>Brooklyn</td>\n",
       "      <td>Bath Beach</td>\n",
       "      <td>40.599519</td>\n",
       "      <td>-73.998752</td>\n",
       "      <td>6.60</td>\n",
       "      <td>Bath Beach(6.599999999999999)</td>\n",
       "    </tr>\n",
       "    <tr>\n",
       "      <th>3</th>\n",
       "      <td>Brooklyn</td>\n",
       "      <td>Bay Ridge</td>\n",
       "      <td>40.625801</td>\n",
       "      <td>-74.030621</td>\n",
       "      <td>7.35</td>\n",
       "      <td>Bay Ridge(7.35)</td>\n",
       "    </tr>\n",
       "    <tr>\n",
       "      <th>4</th>\n",
       "      <td>Bronx</td>\n",
       "      <td>Bedford Park</td>\n",
       "      <td>40.870185</td>\n",
       "      <td>-73.885512</td>\n",
       "      <td>6.45</td>\n",
       "      <td>Bedford Park(6.449999999999999)</td>\n",
       "    </tr>\n",
       "  </tbody>\n",
       "</table>\n",
       "</div>"
      ],
      "text/plain": [
       "    Borough  Neighborhood   Latitude  Longitude  Average Rating  \\\n",
       "0     Bronx      Allerton  40.865788 -73.859319            7.10   \n",
       "1    Queens       Astoria  40.768509 -73.915654            7.70   \n",
       "2  Brooklyn    Bath Beach  40.599519 -73.998752            6.60   \n",
       "3  Brooklyn     Bay Ridge  40.625801 -74.030621            7.35   \n",
       "4     Bronx  Bedford Park  40.870185 -73.885512            6.45   \n",
       "\n",
       "                             Label  \n",
       "0                    Allerton(7.1)  \n",
       "1                     Astoria(7.7)  \n",
       "2    Bath Beach(6.599999999999999)  \n",
       "3                  Bay Ridge(7.35)  \n",
       "4  Bedford Park(6.449999999999999)  "
      ]
     },
     "execution_count": 19,
     "metadata": {},
     "output_type": "execute_result"
    }
   ],
   "source": [
    "neighborhood_stats_rating.head()"
   ]
  },
  {
   "cell_type": "markdown",
   "metadata": {},
   "source": [
    "We will visualize the average rating for all Buroughs with a choropleth map."
   ]
  },
  {
   "cell_type": "code",
   "execution_count": 38,
   "metadata": {},
   "outputs": [],
   "source": [
    "#generating the choropleth map in terms of average rating per borough\n",
    "nyc_geo = r'Borough Boundaries.geojson'\n",
    "nyc_map = folium.Map(location=[latitude,longitude], zoom_start=11)\n",
    "\n",
    "nyc_map.choropleth(\n",
    "    geo_data=nyc_geo,\n",
    "    name='choropleth',\n",
    "    data=borough_stats,\n",
    "    columns=['Borough', 'Average Rating'],\n",
    "    key_on='feature.properties.boro_name',\n",
    "    fill_color='YlOrRd', \n",
    "    fill_opacity=0.7, \n",
    "    line_opacity=0.2,\n",
    "    legend_name='Average Rating'\n",
    ")\n",
    "\n",
    "nyc_map.save('avg_rating_borough.html')"
   ]
  },
  {
   "cell_type": "code",
   "execution_count": null,
   "metadata": {},
   "outputs": [],
   "source": []
  }
 ],
 "metadata": {
  "kernelspec": {
   "display_name": "Python",
   "language": "python",
   "name": "conda-env-python-py"
  },
  "language_info": {
   "codemirror_mode": {
    "name": "ipython",
    "version": 3
   },
   "file_extension": ".py",
   "mimetype": "text/x-python",
   "name": "python",
   "nbconvert_exporter": "python",
   "pygments_lexer": "ipython3",
   "version": "3.6.7"
  }
 },
 "nbformat": 4,
 "nbformat_minor": 4
}
